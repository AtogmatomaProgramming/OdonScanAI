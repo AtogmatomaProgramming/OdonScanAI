{
  "nbformat": 4,
  "nbformat_minor": 0,
  "metadata": {
    "colab": {
      "provenance": [],
      "authorship_tag": "ABX9TyMHKFvJPV1X2ShfJgBXOixA",
      "include_colab_link": true
    },
    "kernelspec": {
      "name": "python3",
      "display_name": "Python 3"
    },
    "language_info": {
      "name": "python"
    }
  },
  "cells": [
    {
      "cell_type": "markdown",
      "metadata": {
        "id": "view-in-github",
        "colab_type": "text"
      },
      "source": [
        "<a href=\"https://colab.research.google.com/github/AtogmatomaProgramming/OdonScanAI/blob/develop/convert_h5_tflite_model.ipynb\" target=\"_parent\"><img src=\"https://colab.research.google.com/assets/colab-badge.svg\" alt=\"Open In Colab\"/></a>"
      ]
    },
    {
      "cell_type": "code",
      "execution_count": null,
      "metadata": {
        "id": "mvkYJua9KRSR"
      },
      "outputs": [],
      "source": [
        "#=== Importar librerías ===\n",
        "\n",
        "import tensorflow as tf\n",
        "from google.colab import drive"
      ]
    },
    {
      "cell_type": "code",
      "source": [
        "#=== Montar el directorio de Drive ===\n",
        "drive.mount('/content/drive')"
      ],
      "metadata": {
        "colab": {
          "base_uri": "https://localhost:8080/"
        },
        "id": "Li2O8150KnZW",
        "outputId": "02da1fa4-6823-45b1-f7a7-833bd63ddbf0"
      },
      "execution_count": null,
      "outputs": [
        {
          "output_type": "stream",
          "name": "stdout",
          "text": [
            "Mounted at /content/drive\n"
          ]
        }
      ]
    },
    {
      "cell_type": "code",
      "source": [
        "#=== Conversión del modelo ===\n",
        "\n",
        "# Cargar el modelo entrenado\n",
        "model = tf.keras.models.load_model('/content/drive/My Drive/alpha_training/modelo_gamma.h5')\n",
        "\n",
        "# Convertir el modelo a TensorFlow Lite\n",
        "converter = tf.lite.TFLiteConverter.from_keras_model(model)\n",
        "tflite_model = converter.convert()\n",
        "\n",
        "# Guardar el modelo TFLite\n",
        "with open('/content/drive/My Drive/alpha_training/modelo_gamma.tflite', 'wb') as f:\n",
        "    f.write(tflite_model)"
      ],
      "metadata": {
        "id": "FvW7tcYRKqbU"
      },
      "execution_count": null,
      "outputs": []
    }
  ]
}
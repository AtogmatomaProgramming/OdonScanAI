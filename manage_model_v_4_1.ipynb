{
  "nbformat": 4,
  "nbformat_minor": 0,
  "metadata": {
    "colab": {
      "provenance": [],
      "authorship_tag": "ABX9TyP3QwKuKvdggCKJcW1kN13E",
      "include_colab_link": true
    },
    "kernelspec": {
      "name": "python3",
      "display_name": "Python 3"
    },
    "language_info": {
      "name": "python"
    }
  },
  "cells": [
    {
      "cell_type": "markdown",
      "metadata": {
        "id": "view-in-github",
        "colab_type": "text"
      },
      "source": [
        "<a href=\"https://colab.research.google.com/github/AtogmatomaProgramming/OdonScanAI/blob/develop/manage_model_v_4_1.ipynb\" target=\"_parent\"><img src=\"https://colab.research.google.com/assets/colab-badge.svg\" alt=\"Open In Colab\"/></a>"
      ]
    },
    {
      "cell_type": "code",
      "execution_count": null,
      "metadata": {
        "id": "ALkMjQjg39Jd"
      },
      "outputs": [],
      "source": [
        "#=== Elementos a importar ===\n",
        "\n",
        "import tensorflow as tf\n",
        "from keras import layers, models\n",
        "import os\n",
        "import numpy as np\n",
        "import cv2\n",
        "import random\n",
        "from sklearn.preprocessing import LabelEncoder"
      ]
    },
    {
      "cell_type": "code",
      "source": [
        "# === Conectar con la carpeta de Drive ===\n",
        "from google.colab import drive\n",
        "drive.mount('/content/drive')"
      ],
      "metadata": {
        "colab": {
          "base_uri": "https://localhost:8080/"
        },
        "id": "DRMIJHuY5jcj",
        "outputId": "e3636dd9-94b5-4b1f-b635-7bd9fdecd7c6"
      },
      "execution_count": null,
      "outputs": [
        {
          "output_type": "stream",
          "name": "stdout",
          "text": [
            "Mounted at /content/drive\n"
          ]
        }
      ]
    },
    {
      "cell_type": "code",
      "source": [
        "# === Procesado del etiquetado de imágenes ===\n",
        "width = 224\n",
        "height = 224\n",
        "ruta_train = '/content/drive/My Drive/alpha_training/frames/'\n",
        "\n",
        "\n",
        "train_x = []\n",
        "train_y = []\n",
        "\n",
        "labels = os.listdir(ruta_train)\n",
        "encoder = LabelEncoder()\n",
        "\n",
        "# Codificación de etiquetas\n",
        "encoded_labels = encoder.fit_transform(labels)\n",
        "print(\"Clases codificadas:\", dict(zip(labels, encoded_labels)))\n",
        "\n",
        "print(labels)\n",
        "\n",
        "for i in os.listdir(ruta_train):\n",
        "    for j in os.listdir(os.path.join(ruta_train, i)):\n",
        "        img = cv2.imread(ruta_train+i+'/'+j)\n",
        "        resized_image = cv2.resize(img, (width, height))\n",
        "\n",
        "        train_x.append(resized_image)\n",
        "\n",
        "        for x,y in enumerate(labels):\n",
        "            if y == i:\n",
        "                array = np.zeros(len(labels))\n",
        "                array[x]=1\n",
        "                train_y.append(array)\n",
        "\n",
        "x_data = np.array(train_x)\n",
        "y_data = np.array(train_y)\n"
      ],
      "metadata": {
        "id": "-OL3Dx135lQx",
        "colab": {
          "base_uri": "https://localhost:8080/"
        },
        "outputId": "7b807881-e282-4d8a-cf44-93ab82630207"
      },
      "execution_count": null,
      "outputs": [
        {
          "output_type": "stream",
          "name": "stdout",
          "text": [
            "Clases codificadas: {'elemento_desconocido': 0, 'lepidorhombus_whiffiagonis': 1, 'micromesistius_poutassou': 2}\n",
            "['elemento_desconocido', 'lepidorhombus_whiffiagonis', 'micromesistius_poutassou']\n"
          ]
        }
      ]
    },
    {
      "cell_type": "code",
      "source": [
        "# === Desarrollo del Modelo ===\n",
        "\n",
        "model = tf.keras.Sequential([\n",
        "    layers.Conv2D(32, 3,3, input_shape=(width, height, 3)),\n",
        "    layers.Activation('relu'),\n",
        "    layers.MaxPooling2D(pool_size=(2,2)),\n",
        "    layers.Conv2D(32, 3,3),\n",
        "    layers.Activation('relu'),\n",
        "    layers.MaxPooling2D(pool_size=(2,2)),\n",
        "    layers.Conv2D(64, 3,3),\n",
        "    layers.Activation('relu'),\n",
        "    layers.MaxPooling2D(pool_size=(2,2)),\n",
        "    layers.Flatten(),\n",
        "    layers.Dense(64),\n",
        "    layers.Activation('relu'),\n",
        "    layers.Dropout(0.5),\n",
        "    layers.Dense(len(labels)),\n",
        "    layers.Activation('sigmoid')\n",
        "])\n",
        "\n",
        "model.compile(loss='binary_crossentropy', optimizer='adam', metrics=['accuracy'])"
      ],
      "metadata": {
        "colab": {
          "base_uri": "https://localhost:8080/"
        },
        "id": "45O8u77gBP_k",
        "outputId": "963a46d1-f80b-4762-968e-47749afb9455"
      },
      "execution_count": null,
      "outputs": [
        {
          "output_type": "stream",
          "name": "stderr",
          "text": [
            "/usr/local/lib/python3.10/dist-packages/keras/src/layers/convolutional/base_conv.py:107: UserWarning: Do not pass an `input_shape`/`input_dim` argument to a layer. When using Sequential models, prefer using an `Input(shape)` object as the first layer in the model instead.\n",
            "  super().__init__(activity_regularizer=activity_regularizer, **kwargs)\n"
          ]
        }
      ]
    },
    {
      "cell_type": "code",
      "source": [
        "# === Entrenar modelo ===\n",
        "\n",
        "epochs = 100\n",
        "\n",
        "model.fit(x_data, y_data, epochs = epochs)\n",
        "\n",
        "models.save_model(model, '/content/drive/My Drive/alpha_training/modelo_gamma.keras')"
      ],
      "metadata": {
        "collapsed": true,
        "id": "p5EdKYetBZ6m"
      },
      "execution_count": null,
      "outputs": []
    },
    {
      "cell_type": "code",
      "source": [
        "# === Testeo modelo ===\n",
        "\n",
        "model = models.load_model('/content/drive/My Drive/alpha_training/modelo_gamma.keras')\n",
        "\n",
        "ruta_predict = '/content/drive/My Drive/alpha_training/foto_test/lirio_2.jpg'\n",
        "my_image = cv2.imread(ruta_predict)\n",
        "my_image = cv2.resize(my_image, (width, height))\n",
        "\n",
        "result = model.predict(np.array([my_image]))[0]\n",
        "\n",
        "porcentaje = max(result)*100\n",
        "\n",
        "grupo = labels[result.argmax()]\n",
        "\n",
        "print(grupo, round(porcentaje))\n"
      ],
      "metadata": {
        "colab": {
          "base_uri": "https://localhost:8080/"
        },
        "id": "8eSjZWXHHEat",
        "outputId": "5f71459c-79f3-4ca7-cd7a-c5ca1f7325b9"
      },
      "execution_count": 23,
      "outputs": [
        {
          "output_type": "stream",
          "name": "stdout",
          "text": [
            "\u001b[1m1/1\u001b[0m \u001b[32m━━━━━━━━━━━━━━━━━━━━\u001b[0m\u001b[37m\u001b[0m \u001b[1m0s\u001b[0m 90ms/step\n",
            "micromesistius_poutassou 100\n"
          ]
        }
      ]
    }
  ]
}
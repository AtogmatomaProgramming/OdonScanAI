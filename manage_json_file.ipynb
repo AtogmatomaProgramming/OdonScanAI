{
  "nbformat": 4,
  "nbformat_minor": 0,
  "metadata": {
    "colab": {
      "provenance": [],
      "authorship_tag": "ABX9TyNk+giWqIny2nz7ebVd6jM3",
      "include_colab_link": true
    },
    "kernelspec": {
      "name": "python3",
      "display_name": "Python 3"
    },
    "language_info": {
      "name": "python"
    }
  },
  "cells": [
    {
      "cell_type": "markdown",
      "metadata": {
        "id": "view-in-github",
        "colab_type": "text"
      },
      "source": [
        "<a href=\"https://colab.research.google.com/github/AtogmatomaProgramming/OdonScanAI/blob/main/manage_json_file.ipynb\" target=\"_parent\"><img src=\"https://colab.research.google.com/assets/colab-badge.svg\" alt=\"Open In Colab\"/></a>"
      ]
    },
    {
      "cell_type": "code",
      "source": [
        "import os\n",
        "import json\n",
        "from google.colab import drive\n",
        "\n",
        "# Montar Google Drive\n",
        "drive.mount('/content/drive')\n",
        "\n",
        "def gestionar_etiquetas_json(carpeta_base, archivo_json):\n",
        "    \"\"\"\n",
        "    Crea o actualiza un archivo JSON de etiquetas para las especies en 'carpeta_base'.\n",
        "    Asigna etiquetas correlativas respetando las ya existentes, elimina etiquetas de especies no presentes\n",
        "    y muestra por pantalla las especies que han sido insertadas o borradas con su índice.\n",
        "    \"\"\"\n",
        "    # Cargar o crear el archivo JSON con etiquetas\n",
        "    etiquetas = {}\n",
        "    if os.path.exists(archivo_json):\n",
        "        with open(archivo_json, \"r\") as f:\n",
        "            etiquetas = json.load(f)\n",
        "\n",
        "    # Listar todas las carpetas de especies en la carpeta base\n",
        "    especies_actuales = set(os.listdir(carpeta_base))\n",
        "\n",
        "    # Identificar especies que han sido borradas\n",
        "    especies_borradas = [especie for especie in etiquetas if especie not in especies_actuales]\n",
        "    for especie in especies_borradas:\n",
        "        print(f\"Especie borrada: {especie}, índice: {etiquetas[especie]}\")\n",
        "\n",
        "    # Eliminar del diccionario etiquetas de especies que ya no están en la carpeta base\n",
        "    etiquetas = {especie: id for especie, id in etiquetas.items() if especie in especies_actuales}\n",
        "\n",
        "    # Identificar la siguiente etiqueta disponible\n",
        "    nueva_etiqueta = max(etiquetas.values(), default=-1) + 1\n",
        "\n",
        "    # Asignar etiquetas correlativas solo a especies no etiquetadas\n",
        "    for especie in especies_actuales:\n",
        "        if especie not in etiquetas:\n",
        "            etiquetas[especie] = nueva_etiqueta\n",
        "            print(f\"Especie insertada: {especie}, índice: {nueva_etiqueta}\")\n",
        "            nueva_etiqueta += 1\n",
        "\n",
        "    # Guardar el archivo JSON actualizado\n",
        "    with open(archivo_json, \"w\") as f:\n",
        "        json.dump(etiquetas, f, indent=4)\n",
        "\n",
        "    print(\"Archivo JSON de etiquetas creado o actualizado exitosamente.\")\n",
        "\n",
        "\n",
        "# Ejemplo de uso\n",
        "carpeta_base = \"/content/drive/My Drive/alpha_training/frames\"\n",
        "archivo_json = \"/content/drive/My Drive/alpha_training/etiquetas.json\"\n",
        "gestionar_etiquetas_json(carpeta_base, archivo_json)\n"
      ],
      "metadata": {
        "id": "nFIAC1_plKxt"
      },
      "execution_count": null,
      "outputs": []
    }
  ]
}
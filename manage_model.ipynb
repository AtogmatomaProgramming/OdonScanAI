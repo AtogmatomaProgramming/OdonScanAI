{
  "nbformat": 4,
  "nbformat_minor": 0,
  "metadata": {
    "colab": {
      "provenance": [],
      "authorship_tag": "ABX9TyM9ryTOnB0rmIemUQFNzcFY",
      "include_colab_link": true
    },
    "kernelspec": {
      "name": "python3",
      "display_name": "Python 3"
    },
    "language_info": {
      "name": "python"
    }
  },
  "cells": [
    {
      "cell_type": "markdown",
      "metadata": {
        "id": "view-in-github",
        "colab_type": "text"
      },
      "source": [
        "<a href=\"https://colab.research.google.com/github/AtogmatomaProgramming/OdonScanAI/blob/main/manage_model.ipynb\" target=\"_parent\"><img src=\"https://colab.research.google.com/assets/colab-badge.svg\" alt=\"Open In Colab\"/></a>"
      ]
    },
    {
      "cell_type": "code",
      "source": [
        "#=== En caso de que no esté instalado scikit-learn\n",
        "!pip install scikit-learn\n",
        "!pip install tensorflow"
      ],
      "metadata": {
        "colab": {
          "base_uri": "https://localhost:8080/"
        },
        "id": "LMtBGGxhCJNK",
        "outputId": "5eeba8f8-347a-4188-ac39-5eb0b6def212",
        "collapsed": true
      },
      "execution_count": null,
      "outputs": [
        {
          "output_type": "stream",
          "name": "stdout",
          "text": [
            "Requirement already satisfied: scikit-learn in /usr/local/lib/python3.10/dist-packages (1.5.2)\n",
            "Requirement already satisfied: numpy>=1.19.5 in /usr/local/lib/python3.10/dist-packages (from scikit-learn) (1.26.4)\n",
            "Requirement already satisfied: scipy>=1.6.0 in /usr/local/lib/python3.10/dist-packages (from scikit-learn) (1.13.1)\n",
            "Requirement already satisfied: joblib>=1.2.0 in /usr/local/lib/python3.10/dist-packages (from scikit-learn) (1.4.2)\n",
            "Requirement already satisfied: threadpoolctl>=3.1.0 in /usr/local/lib/python3.10/dist-packages (from scikit-learn) (3.5.0)\n",
            "Requirement already satisfied: tensorflow in /usr/local/lib/python3.10/dist-packages (2.17.0)\n",
            "Requirement already satisfied: absl-py>=1.0.0 in /usr/local/lib/python3.10/dist-packages (from tensorflow) (1.4.0)\n",
            "Requirement already satisfied: astunparse>=1.6.0 in /usr/local/lib/python3.10/dist-packages (from tensorflow) (1.6.3)\n",
            "Requirement already satisfied: flatbuffers>=24.3.25 in /usr/local/lib/python3.10/dist-packages (from tensorflow) (24.3.25)\n",
            "Requirement already satisfied: gast!=0.5.0,!=0.5.1,!=0.5.2,>=0.2.1 in /usr/local/lib/python3.10/dist-packages (from tensorflow) (0.6.0)\n",
            "Requirement already satisfied: google-pasta>=0.1.1 in /usr/local/lib/python3.10/dist-packages (from tensorflow) (0.2.0)\n",
            "Requirement already satisfied: h5py>=3.10.0 in /usr/local/lib/python3.10/dist-packages (from tensorflow) (3.12.1)\n",
            "Requirement already satisfied: libclang>=13.0.0 in /usr/local/lib/python3.10/dist-packages (from tensorflow) (18.1.1)\n",
            "Requirement already satisfied: ml-dtypes<0.5.0,>=0.3.1 in /usr/local/lib/python3.10/dist-packages (from tensorflow) (0.4.1)\n",
            "Requirement already satisfied: opt-einsum>=2.3.2 in /usr/local/lib/python3.10/dist-packages (from tensorflow) (3.4.0)\n",
            "Requirement already satisfied: packaging in /usr/local/lib/python3.10/dist-packages (from tensorflow) (24.2)\n",
            "Requirement already satisfied: protobuf!=4.21.0,!=4.21.1,!=4.21.2,!=4.21.3,!=4.21.4,!=4.21.5,<5.0.0dev,>=3.20.3 in /usr/local/lib/python3.10/dist-packages (from tensorflow) (4.25.5)\n",
            "Requirement already satisfied: requests<3,>=2.21.0 in /usr/local/lib/python3.10/dist-packages (from tensorflow) (2.32.3)\n",
            "Requirement already satisfied: setuptools in /usr/local/lib/python3.10/dist-packages (from tensorflow) (75.1.0)\n",
            "Requirement already satisfied: six>=1.12.0 in /usr/local/lib/python3.10/dist-packages (from tensorflow) (1.16.0)\n",
            "Requirement already satisfied: termcolor>=1.1.0 in /usr/local/lib/python3.10/dist-packages (from tensorflow) (2.5.0)\n",
            "Requirement already satisfied: typing-extensions>=3.6.6 in /usr/local/lib/python3.10/dist-packages (from tensorflow) (4.12.2)\n",
            "Requirement already satisfied: wrapt>=1.11.0 in /usr/local/lib/python3.10/dist-packages (from tensorflow) (1.16.0)\n",
            "Requirement already satisfied: grpcio<2.0,>=1.24.3 in /usr/local/lib/python3.10/dist-packages (from tensorflow) (1.67.1)\n",
            "Requirement already satisfied: tensorboard<2.18,>=2.17 in /usr/local/lib/python3.10/dist-packages (from tensorflow) (2.17.0)\n",
            "Requirement already satisfied: keras>=3.2.0 in /usr/local/lib/python3.10/dist-packages (from tensorflow) (3.4.1)\n",
            "Requirement already satisfied: tensorflow-io-gcs-filesystem>=0.23.1 in /usr/local/lib/python3.10/dist-packages (from tensorflow) (0.37.1)\n",
            "Requirement already satisfied: numpy<2.0.0,>=1.23.5 in /usr/local/lib/python3.10/dist-packages (from tensorflow) (1.26.4)\n",
            "Requirement already satisfied: wheel<1.0,>=0.23.0 in /usr/local/lib/python3.10/dist-packages (from astunparse>=1.6.0->tensorflow) (0.44.0)\n",
            "Requirement already satisfied: rich in /usr/local/lib/python3.10/dist-packages (from keras>=3.2.0->tensorflow) (13.9.4)\n",
            "Requirement already satisfied: namex in /usr/local/lib/python3.10/dist-packages (from keras>=3.2.0->tensorflow) (0.0.8)\n",
            "Requirement already satisfied: optree in /usr/local/lib/python3.10/dist-packages (from keras>=3.2.0->tensorflow) (0.13.0)\n",
            "Requirement already satisfied: charset-normalizer<4,>=2 in /usr/local/lib/python3.10/dist-packages (from requests<3,>=2.21.0->tensorflow) (3.4.0)\n",
            "Requirement already satisfied: idna<4,>=2.5 in /usr/local/lib/python3.10/dist-packages (from requests<3,>=2.21.0->tensorflow) (3.10)\n",
            "Requirement already satisfied: urllib3<3,>=1.21.1 in /usr/local/lib/python3.10/dist-packages (from requests<3,>=2.21.0->tensorflow) (2.2.3)\n",
            "Requirement already satisfied: certifi>=2017.4.17 in /usr/local/lib/python3.10/dist-packages (from requests<3,>=2.21.0->tensorflow) (2024.8.30)\n",
            "Requirement already satisfied: markdown>=2.6.8 in /usr/local/lib/python3.10/dist-packages (from tensorboard<2.18,>=2.17->tensorflow) (3.7)\n",
            "Requirement already satisfied: tensorboard-data-server<0.8.0,>=0.7.0 in /usr/local/lib/python3.10/dist-packages (from tensorboard<2.18,>=2.17->tensorflow) (0.7.2)\n",
            "Requirement already satisfied: werkzeug>=1.0.1 in /usr/local/lib/python3.10/dist-packages (from tensorboard<2.18,>=2.17->tensorflow) (3.1.3)\n",
            "Requirement already satisfied: MarkupSafe>=2.1.1 in /usr/local/lib/python3.10/dist-packages (from werkzeug>=1.0.1->tensorboard<2.18,>=2.17->tensorflow) (3.0.2)\n",
            "Requirement already satisfied: markdown-it-py>=2.2.0 in /usr/local/lib/python3.10/dist-packages (from rich->keras>=3.2.0->tensorflow) (3.0.0)\n",
            "Requirement already satisfied: pygments<3.0.0,>=2.13.0 in /usr/local/lib/python3.10/dist-packages (from rich->keras>=3.2.0->tensorflow) (2.18.0)\n",
            "Requirement already satisfied: mdurl~=0.1 in /usr/local/lib/python3.10/dist-packages (from markdown-it-py>=2.2.0->rich->keras>=3.2.0->tensorflow) (0.1.2)\n"
          ]
        }
      ]
    },
    {
      "cell_type": "code",
      "execution_count": null,
      "metadata": {
        "id": "neY6DlY281Dl",
        "colab": {
          "base_uri": "https://localhost:8080/"
        },
        "outputId": "1c843957-fbe4-499f-9e97-1e5328189fa2"
      },
      "outputs": [
        {
          "output_type": "stream",
          "name": "stdout",
          "text": [
            "Drive already mounted at /content/drive; to attempt to forcibly remount, call drive.mount(\"/content/drive\", force_remount=True).\n"
          ]
        }
      ],
      "source": [
        "#=== Importar librerias ===\n",
        "\n",
        "import os\n",
        "import json\n",
        "import tensorflow as tf\n",
        "from tensorflow.keras import layers, models\n",
        "from google.colab import drive\n",
        "\n",
        "# Montar Google Drive\n",
        "drive.mount('/content/drive')"
      ]
    },
    {
      "cell_type": "code",
      "source": [
        "#=== Funciones de trabajo ===\n",
        "\n",
        "# Función para obtener rutas de imágenes y etiquetas\n",
        "def obtener_imagenes_y_etiquetas(carpeta_base, archivo_json):\n",
        "    # Cargar o inicializar el JSON\n",
        "    if os.path.exists(archivo_json):\n",
        "        with open(archivo_json, 'r') as f:\n",
        "            especies_dict = json.load(f)\n",
        "    else:\n",
        "        especies_dict = {}\n",
        "\n",
        "    image_paths = []\n",
        "    labels = []\n",
        "\n",
        "    for especie in sorted(os.listdir(carpeta_base)):\n",
        "        especie_dir = os.path.join(carpeta_base, especie)\n",
        "        if os.path.isdir(especie_dir):\n",
        "            if especie not in especies_dict:\n",
        "                especies_dict[especie] = len(especies_dict)\n",
        "            label = especies_dict[especie]\n",
        "\n",
        "            for root, _, files in os.walk(especie_dir):\n",
        "                for file in files:\n",
        "                    if file.endswith(('.png', '.jpg', '.jpeg')):\n",
        "                        image_paths.append(os.path.join(root, file))\n",
        "                        labels.append(label)\n",
        "\n",
        "    # Guardar el JSON actualizado\n",
        "    with open(archivo_json, 'w') as f:\n",
        "        json.dump(especies_dict, f)\n",
        "\n",
        "    return image_paths, labels\n",
        "\n",
        "# Función para preparar el dataset utilizando tf.data\n",
        "def preparar_datasets(image_paths, labels, batch_size=32, validation_split=0.2):\n",
        "    dataset = tf.data.Dataset.from_tensor_slices((image_paths, labels))\n",
        "\n",
        "    # Cargar y preprocesar las imágenes\n",
        "    def cargar_y_preprocesar(ruta, etiqueta):\n",
        "        imagen = tf.io.read_file(ruta)\n",
        "        imagen = tf.image.decode_jpeg(imagen, channels=3)\n",
        "        imagen = tf.image.resize(imagen, [224, 224])\n",
        "        imagen = tf.image.convert_image_dtype(imagen, tf.float32)  # Normalizar\n",
        "        return imagen, etiqueta\n",
        "\n",
        "    dataset = dataset.map(cargar_y_preprocesar, num_parallel_calls=tf.data.AUTOTUNE)\n",
        "\n",
        "    # Dividir en entrenamiento y validación\n",
        "    dataset_size = len(image_paths)\n",
        "    train_size = int((1 - validation_split) * dataset_size)\n",
        "\n",
        "    train_ds = dataset.take(train_size)\n",
        "    val_ds = dataset.skip(train_size)\n",
        "\n",
        "    # Configurar el dataset para batching, mezclado y cache\n",
        "    train_ds = train_ds.shuffle(1000).batch(batch_size).prefetch(tf.data.AUTOTUNE)\n",
        "    val_ds = val_ds.batch(batch_size).prefetch(tf.data.AUTOTUNE)\n",
        "\n",
        "    return train_ds, val_ds\n",
        "\n",
        "# Definir el modelo\n",
        "def crear_modelo(num_clases):\n",
        "    modelo = models.Sequential([\n",
        "        layers.Conv2D(32, (3, 3), activation='relu', input_shape=(224, 224, 3)),\n",
        "        layers.MaxPooling2D((2, 2)),\n",
        "        layers.Conv2D(64, (3, 3), activation='relu'),\n",
        "        layers.MaxPooling2D((2, 2)),\n",
        "        layers.Conv2D(128, (3, 3), activation='relu'),\n",
        "        layers.MaxPooling2D((2, 2)),\n",
        "        layers.Flatten(),\n",
        "        layers.Dense(128, activation='relu'),\n",
        "        layers.Dense(num_clases, activation='softmax')\n",
        "    ])\n",
        "\n",
        "    modelo.compile(optimizer='adam',\n",
        "                   loss='sparse_categorical_crossentropy',\n",
        "                   metrics=['accuracy'])\n",
        "    return modelo\n",
        "\n",
        "# Función principal\n",
        "def main(carpeta_base, archivo_json, model_name):\n",
        "    # Crear rutas de imágenes y etiquetas desde las carpetas de clases\n",
        "    image_paths, labels = obtener_imagenes_y_etiquetas(carpeta_base, archivo_json)\n",
        "\n",
        "    # Preparar los datasets de entrenamiento y validación\n",
        "    train_ds, val_ds = preparar_datasets(image_paths, labels)\n",
        "\n",
        "    # Crear el modelo con el número de clases detectado\n",
        "    modelo = crear_modelo(num_clases=len(set(labels)))\n",
        "\n",
        "    # Entrenar el modelo\n",
        "    history = modelo.fit(train_ds, validation_data=val_ds, epochs=10)\n",
        "\n",
        "    # Guardar el modelo entrenado\n",
        "    modelo.save(model_name)\n",
        "\n"
      ],
      "metadata": {
        "id": "a7RlmJEV9Sgd",
        "collapsed": true
      },
      "execution_count": null,
      "outputs": []
    },
    {
      "cell_type": "code",
      "source": [
        "# Llamada a la función main con la ruta de carpeta base y el archivo JSON\n",
        "\n",
        "carpeta_base = \"/content/drive/My Drive/alpha_training/frames\"\n",
        "archivo_json= \"/content/drive/My Drive/alpha_training/etiquetas.json\"\n",
        "model_name = \"/content/drive/My Drive/alpha_training/modelo_gamma.h5\"\n",
        "\n",
        "main(carpeta_base, archivo_json, model_name)"
      ],
      "metadata": {
        "colab": {
          "base_uri": "https://localhost:8080/"
        },
        "collapsed": true,
        "id": "1rDyMhpGoQbY",
        "outputId": "c7000f6e-6507-4681-8fb6-b67e59f1845d"
      },
      "execution_count": null,
      "outputs": [
        {
          "output_type": "stream",
          "name": "stderr",
          "text": [
            "/usr/local/lib/python3.10/dist-packages/keras/src/layers/convolutional/base_conv.py:107: UserWarning: Do not pass an `input_shape`/`input_dim` argument to a layer. When using Sequential models, prefer using an `Input(shape)` object as the first layer in the model instead.\n",
            "  super().__init__(activity_regularizer=activity_regularizer, **kwargs)\n"
          ]
        },
        {
          "output_type": "stream",
          "name": "stdout",
          "text": [
            "Epoch 1/10\n",
            "\u001b[1m171/171\u001b[0m \u001b[32m━━━━━━━━━━━━━━━━━━━━\u001b[0m\u001b[37m\u001b[0m \u001b[1m725s\u001b[0m 4s/step - accuracy: 0.7462 - loss: 74.4578 - val_accuracy: 0.0580 - val_loss: 7.2932\n",
            "Epoch 2/10\n",
            "\u001b[1m171/171\u001b[0m \u001b[32m━━━━━━━━━━━━━━━━━━━━\u001b[0m\u001b[37m\u001b[0m \u001b[1m705s\u001b[0m 4s/step - accuracy: 0.8372 - loss: 0.9831 - val_accuracy: 0.0727 - val_loss: 23.4851\n",
            "Epoch 3/10\n",
            "\u001b[1m171/171\u001b[0m \u001b[32m━━━━━━━━━━━━━━━━━━━━\u001b[0m\u001b[37m\u001b[0m \u001b[1m703s\u001b[0m 4s/step - accuracy: 0.9382 - loss: 0.2373 - val_accuracy: 0.0816 - val_loss: 23.9898\n",
            "Epoch 4/10\n",
            "\u001b[1m171/171\u001b[0m \u001b[32m━━━━━━━━━━━━━━━━━━━━\u001b[0m\u001b[37m\u001b[0m \u001b[1m708s\u001b[0m 4s/step - accuracy: 0.9919 - loss: 0.0324 - val_accuracy: 0.0727 - val_loss: 37.9359\n",
            "Epoch 5/10\n",
            "\u001b[1m171/171\u001b[0m \u001b[32m━━━━━━━━━━━━━━━━━━━━\u001b[0m\u001b[37m\u001b[0m \u001b[1m704s\u001b[0m 4s/step - accuracy: 0.9956 - loss: 0.0170 - val_accuracy: 0.0617 - val_loss: 40.8363\n",
            "Epoch 6/10\n",
            "\u001b[1m171/171\u001b[0m \u001b[32m━━━━━━━━━━━━━━━━━━━━\u001b[0m\u001b[37m\u001b[0m \u001b[1m685s\u001b[0m 4s/step - accuracy: 0.9969 - loss: 0.0160 - val_accuracy: 0.0683 - val_loss: 35.8833\n",
            "Epoch 7/10\n",
            "\u001b[1m171/171\u001b[0m \u001b[32m━━━━━━━━━━━━━━━━━━━━\u001b[0m\u001b[37m\u001b[0m \u001b[1m756s\u001b[0m 4s/step - accuracy: 0.9984 - loss: 0.0073 - val_accuracy: 0.0794 - val_loss: 33.5463\n",
            "Epoch 8/10\n",
            "\u001b[1m171/171\u001b[0m \u001b[32m━━━━━━━━━━━━━━━━━━━━\u001b[0m\u001b[37m\u001b[0m \u001b[1m726s\u001b[0m 4s/step - accuracy: 0.9738 - loss: 0.3517 - val_accuracy: 0.0963 - val_loss: 62.1289\n",
            "Epoch 9/10\n",
            "\u001b[1m171/171\u001b[0m \u001b[32m━━━━━━━━━━━━━━━━━━━━\u001b[0m\u001b[37m\u001b[0m \u001b[1m716s\u001b[0m 4s/step - accuracy: 0.9163 - loss: 1.6372 - val_accuracy: 0.0426 - val_loss: 37.8124\n",
            "Epoch 10/10\n",
            "\u001b[1m171/171\u001b[0m \u001b[32m━━━━━━━━━━━━━━━━━━━━\u001b[0m\u001b[37m\u001b[0m \u001b[1m738s\u001b[0m 4s/step - accuracy: 0.8913 - loss: 0.7298 - val_accuracy: 0.0434 - val_loss: 48.2445\n"
          ]
        },
        {
          "output_type": "stream",
          "name": "stderr",
          "text": [
            "WARNING:absl:You are saving your model as an HDF5 file via `model.save()` or `keras.saving.save_model(model)`. This file format is considered legacy. We recommend using instead the native Keras format, e.g. `model.save('my_model.keras')` or `keras.saving.save_model(model, 'my_model.keras')`. \n"
          ]
        }
      ]
    },
    {
      "cell_type": "code",
      "source": [
        "#=== Aplicar funciones ===\n",
        "\n",
        "# Montar el acceso a drive\n",
        "\n",
        "# drive.mount('/content/drive')\n",
        "\n",
        "# Ruta de la carpeta donde están las especies (ajusta esta ruta)\n",
        "# carpeta_base = \"/content/drive/My Drive/alpha_training/frames\"\n",
        "# archivo_json= \"/content/drive/My Drive/alpha_training/etiquetas.json\"\n",
        "\n",
        "# Actualizar el archivo JSON con las especies y sus etiquetas\n",
        "# main(carpeta_base, archivo_json)"
      ],
      "metadata": {
        "id": "Lfm5su5-9yJy"
      },
      "execution_count": null,
      "outputs": []
    }
  ]
}
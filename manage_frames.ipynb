{
  "nbformat": 4,
  "nbformat_minor": 0,
  "metadata": {
    "colab": {
      "provenance": [],
      "authorship_tag": "ABX9TyNj7Evrl7BfINW4aYfh8Jzu",
      "include_colab_link": true
    },
    "kernelspec": {
      "name": "python3",
      "display_name": "Python 3"
    },
    "language_info": {
      "name": "python"
    }
  },
  "cells": [
    {
      "cell_type": "markdown",
      "metadata": {
        "id": "view-in-github",
        "colab_type": "text"
      },
      "source": [
        "<a href=\"https://colab.research.google.com/github/AtogmatomaProgramming/OdonScanAI/blob/develop/manage_frames.ipynb\" target=\"_parent\"><img src=\"https://colab.research.google.com/assets/colab-badge.svg\" alt=\"Open In Colab\"/></a>"
      ]
    },
    {
      "cell_type": "markdown",
      "source": [
        "# *manage_frames.ipynb*"
      ],
      "metadata": {
        "id": "34CwC8bqtjFK"
      }
    },
    {
      "cell_type": "markdown",
      "source": [
        "Breve descripción: script para la extracción de frames desde los videos que se grabaron para cada especie."
      ],
      "metadata": {
        "id": "X_cKvfB9twwo"
      }
    },
    {
      "cell_type": "markdown",
      "source": [
        "## 1. Peparar librerías y espacio de trabajo"
      ],
      "metadata": {
        "id": "j2Taa72uuIyo"
      }
    },
    {
      "cell_type": "code",
      "execution_count": null,
      "metadata": {
        "id": "4GnKevZsfyou"
      },
      "outputs": [],
      "source": [
        "# Importación de librerías\n",
        "from google.colab import drive\n",
        "import os\n",
        "import cv2"
      ]
    },
    {
      "cell_type": "code",
      "source": [
        "# Establecer conexión con directorio de trabajo\n",
        "drive.mount('/content/drive')"
      ],
      "metadata": {
        "id": "cLZ36QEpu2Nv"
      },
      "execution_count": null,
      "outputs": []
    },
    {
      "cell_type": "code",
      "source": [
        "# Rutas carpetas de trabajo\n",
        "base_video_dir = \"/content/drive/My Drive/alpha_training/videos\"\n",
        "output_frame_dir = \"/content/drive/My Drive/alpha_training/frames\""
      ],
      "metadata": {
        "id": "cL6Jhurdjtvd"
      },
      "execution_count": null,
      "outputs": []
    },
    {
      "cell_type": "markdown",
      "source": [
        "## 2. Extracción de frames"
      ],
      "metadata": {
        "id": "paF_VkPrvQyv"
      }
    },
    {
      "cell_type": "code",
      "source": [
        "# Número de frames que quieres extraer por video\n",
        "total_frames_desired = 802"
      ],
      "metadata": {
        "id": "HgIc9gnnvZuW"
      },
      "execution_count": null,
      "outputs": []
    },
    {
      "cell_type": "code",
      "source": [
        "# Función para crear una carpeta en el directorio de salida (si no existe)\n",
        "def create_folder_if_not_exists(folder_path):\n",
        "    if not os.path.exists(folder_path):\n",
        "        os.makedirs(folder_path)"
      ],
      "metadata": {
        "id": "7cbP8RMGvcpP"
      },
      "execution_count": null,
      "outputs": []
    },
    {
      "cell_type": "code",
      "source": [
        "# Bucles de trabajo\n",
        "\n",
        "## a) Recorrer las carpetas de especies en la carpeta de videos\n",
        "\n",
        "for species in os.listdir(base_video_dir):\n",
        "    species_path = os.path.join(base_video_dir, species)\n",
        "    if os.path.isdir(species_path):\n",
        "        # Crear una carpeta de salida para la especie en 'frames'\n",
        "        # a través de la función \"create_folder_if_not_exists\"\n",
        "        species_output_dir = os.path.join(output_frame_dir, species)\n",
        "        create_folder_if_not_exists(species_output_dir)\n",
        "\n",
        "        # Recorrer los videos en la carpeta de cada especie\n",
        "        for idx, video_file in enumerate(os.listdir(species_path)):\n",
        "            video_path = os.path.join(species_path, video_file)\n",
        "            video_code = f'v{idx + 1}'\n",
        "\n",
        "            # Verificar si ya existen frames del video en la carpeta de la especie\n",
        "            existing_frames = [f for f in os.listdir(species_output_dir) if f.startswith(video_code)]\n",
        "            if existing_frames:\n",
        "                print(f\"Frames ya extraídos para {video_file}, ignorando...\")\n",
        "                continue\n",
        "\n",
        "            # Procesar el video y calcular el intervalo para los frames deseados\n",
        "            cap = cv2.VideoCapture(video_path)\n",
        "            frame_count = int(cap.get(cv2.CAP_PROP_FRAME_COUNT))\n",
        "            interval = max(1, frame_count // total_frames_desired)\n",
        "\n",
        "            # Extraer frames en intervalos calculados\n",
        "            current_frame = 0\n",
        "            saved_frames = 0\n",
        "            while cap.isOpened() and saved_frames < total_frames_desired:\n",
        "                ret, frame = cap.read()\n",
        "                if not ret:\n",
        "                    break\n",
        "                if current_frame % interval == 0:\n",
        "                    frame_name = os.path.join(species_output_dir, f'{video_code}_frame{current_frame}.jpg')\n",
        "                    cv2.imwrite(frame_name, frame)\n",
        "                    saved_frames += 1\n",
        "                current_frame += 1\n",
        "\n",
        "            cap.release()\n",
        "            # Visualización por pantalla de los frames extraídos por video\n",
        "            print(f\"{saved_frames} frames extraídos de {video_file} y guardados en {species_output_dir}\")\n",
        "\n",
        "## b) Confrimación de la extracción final de frames\n",
        "\n",
        "print(\"Extracción de frames completada.\")"
      ],
      "metadata": {
        "id": "R16t86UHoWZX"
      },
      "execution_count": null,
      "outputs": []
    }
  ]
}
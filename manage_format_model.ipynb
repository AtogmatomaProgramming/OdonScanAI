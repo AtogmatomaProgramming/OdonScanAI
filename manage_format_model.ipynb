{
  "nbformat": 4,
  "nbformat_minor": 0,
  "metadata": {
    "colab": {
      "provenance": [],
      "authorship_tag": "ABX9TyNZ8sdLtr8XfNpRQotCOyvM",
      "include_colab_link": true
    },
    "kernelspec": {
      "name": "python3",
      "display_name": "Python 3"
    },
    "language_info": {
      "name": "python"
    }
  },
  "cells": [
    {
      "cell_type": "markdown",
      "metadata": {
        "id": "view-in-github",
        "colab_type": "text"
      },
      "source": [
        "<a href=\"https://colab.research.google.com/github/AtogmatomaProgramming/OdonScanAI/blob/develop/manage_format_model.ipynb\" target=\"_parent\"><img src=\"https://colab.research.google.com/assets/colab-badge.svg\" alt=\"Open In Colab\"/></a>"
      ]
    },
    {
      "cell_type": "markdown",
      "source": [
        "# *manage_format_model.ipynb*"
      ],
      "metadata": {
        "id": "OEp9qx11CMcy"
      }
    },
    {
      "cell_type": "markdown",
      "source": [
        "Breve descripción: pequeño pero no menos importante script para la conversión del modelo de formato *keras* a *tflite*"
      ],
      "metadata": {
        "id": "mrOPQF_nCWDR"
      }
    },
    {
      "cell_type": "markdown",
      "source": [
        "## 1. Importar librerías necesarias y preparación espacio de trabajo"
      ],
      "metadata": {
        "id": "pcivnZvgCszv"
      }
    },
    {
      "cell_type": "code",
      "source": [
        "# Importación librerías\n",
        "\n",
        "import tensorflow as tf\n",
        "from google.colab import drive"
      ],
      "metadata": {
        "id": "VtnPgligCzV_"
      },
      "execution_count": null,
      "outputs": []
    },
    {
      "cell_type": "code",
      "source": [
        "# Conexión espacio de trabajo\n",
        "\n",
        "drive.mount('/content/drive')"
      ],
      "metadata": {
        "id": "Vz4ooHljNBOv"
      },
      "execution_count": null,
      "outputs": []
    },
    {
      "cell_type": "markdown",
      "source": [
        "## 2. Conversión de formato"
      ],
      "metadata": {
        "id": "_xEjv3STC9cC"
      }
    },
    {
      "cell_type": "code",
      "source": [
        "# Cargar el modelo\n",
        "model = tf.keras.models.load_model('/content/drive/My Drive/alpha_training/modelo_iota.keras')\n",
        "\n",
        "# Convertir el modelo a TensorFlow Lite\n",
        "converter = tf.lite.TFLiteConverter.from_keras_model(model)\n",
        "tflite_model = converter.convert()\n",
        "\n",
        "# Guardar el modelo TFLite\n",
        "with open('/content/drive/My Drive/alpha_training/modelo_iota.tflite', 'wb') as f:\n",
        "    f.write(tflite_model)\n"
      ],
      "metadata": {
        "id": "NvcyW0E1Nd9_"
      },
      "execution_count": null,
      "outputs": []
    }
  ]
}